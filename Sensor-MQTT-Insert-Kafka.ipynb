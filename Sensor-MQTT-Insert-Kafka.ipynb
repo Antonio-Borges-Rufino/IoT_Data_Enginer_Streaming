{
 "cells": [
  {
   "cell_type": "code",
   "execution_count": null,
   "id": "b679f650",
   "metadata": {},
   "outputs": [],
   "source": [
    "from kafka import KafkaProducer\n",
    "import pandas as pd\n",
    "from time import sleep\n",
    "from datetime import datetime"
   ]
  },
  {
   "cell_type": "code",
   "execution_count": null,
   "id": "194272aa",
   "metadata": {},
   "outputs": [],
   "source": [
    "producer = KafkaProducer(bootstrap_servers='localhost:9092')\n",
    "df = pd.read_csv(\"/home/hadoop/sensor_data.csv\",usecols=['Lat','Lon','Temp'])\n",
    "count = 0\n",
    "for data in range(0,len(df)-1):\n",
    "    if data%2 == 0:\n",
    "        d_d_e = datetime.now()\n",
    "        d_d_e = str(d_d_e.year)+\"-\"+str(d_d_e.month)+\"-\"+str(d_d_e.day)+\"-\"+str(d_d_e.hour+count)+\"-sensor1\"\n",
    "        d_d_e = d_d_e.encode(encoding='utf-8')\n",
    "        sensor1=df.iloc[data]\n",
    "        encoded_string = str(sensor1[2])\n",
    "        encoded_string = encoded_string.encode(encoding='utf-8')\n",
    "        producer.send('data_sensor', key=d_d_e, value=encoded_string)\n",
    "    else:\n",
    "        d_d_e = datetime.now()\n",
    "        d_d_e = str(d_d_e.year)+\"-\"+str(d_d_e.month)+\"-\"+str(d_d_e.day)+\"-\"+str(d_d_e.hour+count)+\"-sensor2\"\n",
    "        d_d_e = d_d_e.encode(encoding='utf-8')\n",
    "        sensor2=df.iloc[data]\n",
    "        encoded_string = str(sensor2[2])\n",
    "        encoded_string = encoded_string.encode(encoding='utf-8')\n",
    "        producer.send('data_sensor', key=d_d_e, value=encoded_string)\n",
    "    count = count + 1\n",
    "    sleep(10)\n",
    "\n",
    "producer.close()"
   ]
  },
  {
   "cell_type": "code",
   "execution_count": null,
   "id": "2863b9f9",
   "metadata": {},
   "outputs": [],
   "source": []
  }
 ],
 "metadata": {
  "kernelspec": {
   "display_name": "projetos",
   "language": "python",
   "name": "projetos"
  },
  "language_info": {
   "codemirror_mode": {
    "name": "ipython",
    "version": 3
   },
   "file_extension": ".py",
   "mimetype": "text/x-python",
   "name": "python",
   "nbconvert_exporter": "python",
   "pygments_lexer": "ipython3",
   "version": "3.6.8"
  }
 },
 "nbformat": 4,
 "nbformat_minor": 5
}
