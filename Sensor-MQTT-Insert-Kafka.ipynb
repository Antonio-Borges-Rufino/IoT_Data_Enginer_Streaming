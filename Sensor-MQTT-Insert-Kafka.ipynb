{
 "cells": [
  {
   "cell_type": "code",
   "execution_count": null,
   "id": "b679f650",
   "metadata": {},
   "outputs": [],
   "source": [
    "from kafka import KafkaProducer\n",
    "import pandas as pd\n",
    "from time import sleep\n",
    "from datetime import datetime"
   ]
  },
  {
   "cell_type": "markdown",
   "id": "682d5b7c",
   "metadata": {},
   "source": [
    "# Célula para por em produção"
   ]
  },
  {
   "cell_type": "code",
   "execution_count": null,
   "id": "194272aa",
   "metadata": {},
   "outputs": [],
   "source": [
    "producer = KafkaProducer(bootstrap_servers='localhost:9092')\n",
    "df = pd.read_csv(\"/home/hadoop/sensor_data.csv\",usecols=['Lat','Lon','Temp'])\n",
    "for data in range(0,len(df)-1):\n",
    "    if data%2 == 0:\n",
    "        d_d_e = datetime.now()\n",
    "        d_d_e = str(d_d_e.year)+\"-\"+str(d_d_e.month)+\"-\"+str(d_d_e.day)+\"-\"+str(d_d_e.hour)+\"-sensor1\"\n",
    "        d_d_e = d_d_e.encode(encoding='utf-8')\n",
    "        sensor1=df.iloc[data]\n",
    "        encoded_string = str(sensor1[2])\n",
    "        encoded_string = encoded_string.encode(encoding='utf-8')\n",
    "        producer.send('data_sensor', key=d_d_e, value=encoded_string)\n",
    "    else:\n",
    "        d_d_e = datetime.now()\n",
    "        d_d_e = str(d_d_e.year)+\"-\"+str(d_d_e.month)+\"-\"+str(d_d_e.day)+\"-\"+str(d_d_e.hour)+\"-sensor2\"\n",
    "        d_d_e = d_d_e.encode(encoding='utf-8')\n",
    "        sensor2=df.iloc[data]\n",
    "        encoded_string = str(sensor2[2])\n",
    "        encoded_string = encoded_string.encode(encoding='utf-8')\n",
    "        producer.send('data_sensor', key=d_d_e, value=encoded_string)\n",
    "    sleep(3600)\n",
    "\n",
    "producer.close()"
   ]
  },
  {
   "cell_type": "markdown",
   "id": "aa45dd66",
   "metadata": {},
   "source": [
    "# Célula de Teste"
   ]
  },
  {
   "cell_type": "code",
   "execution_count": null,
   "id": "2863b9f9",
   "metadata": {},
   "outputs": [],
   "source": [
    "producer = KafkaProducer(bootstrap_servers='localhost:9092')\n",
    "df = pd.read_csv(\"/home/hadoop/sensor_data.csv\",usecols=['Lat','Lon','Temp'])\n",
    "ano = 2022\n",
    "mes = [0,1,2,3,4,5,6,7,8,9,10,11]\n",
    "dias = [31,28,31,30,31,30,31,31,30,31,30,31]\n",
    "dataset_posix = 0\n",
    "while True:\n",
    "    for mes_ in mes:\n",
    "        for dia in range(1,dias[mes_]+1):\n",
    "            for hora in range(0,24):\n",
    "                if dataset_posix%2 == 0:\n",
    "                    key_ = str(ano)+\"-\"+str(mes_+1)+\"-\"+str(dia)+\"-\"+str(hora)+\"-\"+\"sensor1\"\n",
    "                    key_ = key_.encode(encoding='utf-8')\n",
    "                    sensor = df.iloc[dataset_posix]\n",
    "                    sensor = str(sensor[2])\n",
    "                    value_ = sensor.encode(encoding='utf-8')\n",
    "                    producer.send('data_sensor', key=key_, value=value_)\n",
    "                    dataset_posix = dataset_posix + 1\n",
    "                    if dataset_posix >= len(df):\n",
    "                        dataset_posix = 0\n",
    "                else:\n",
    "                    key_ = str(ano)+\"-\"+str(mes_+1)+\"-\"+str(dia)+\"-\"+str(hora)+\"-\"+\"sensor2\"\n",
    "                    key_ = key_.encode(encoding='utf-8')\n",
    "                    sensor = df.iloc[dataset_posix]\n",
    "                    sensor = str(sensor[2])\n",
    "                    value_ = sensor.encode(encoding='utf-8')\n",
    "                    producer.send('data_sensor', key=key_, value=value_)\n",
    "                    dataset_posix = dataset_posix + 1\n",
    "                    if dataset_posix >= len(df):\n",
    "                        dataset_posix = 0\n",
    "                sleep(5)            \n",
    "    ano = ano + 1"
   ]
  }
 ],
 "metadata": {
  "kernelspec": {
   "display_name": "projetos",
   "language": "python",
   "name": "projetos"
  },
  "language_info": {
   "codemirror_mode": {
    "name": "ipython",
    "version": 3
   },
   "file_extension": ".py",
   "mimetype": "text/x-python",
   "name": "python",
   "nbconvert_exporter": "python",
   "pygments_lexer": "ipython3",
   "version": "3.6.8"
  }
 },
 "nbformat": 4,
 "nbformat_minor": 5
}
